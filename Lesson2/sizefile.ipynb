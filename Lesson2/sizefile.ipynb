{
 "cells": [
  {
   "cell_type": "code",
   "execution_count": 1,
   "id": "a2ae8b50-a2c0-4939-bdea-61777bd4b72f",
   "metadata": {
    "tags": []
   },
   "outputs": [],
   "source": [
    "import sys"
   ]
  },
  {
   "cell_type": "code",
   "execution_count": 2,
   "id": "62c609fc-1329-41fc-8896-7b3a2ca42fc7",
   "metadata": {
    "tags": []
   },
   "outputs": [
    {
     "name": "stdout",
     "output_type": "stream",
     "text": [
      "List size =  120\n",
      "Tuple size =  104\n"
     ]
    }
   ],
   "source": [
    "list_ex = [1, 2, 3, 'a', 'b', 'c', True, 3.14]\n",
    "tuple_ex = (1, 2, 3, 'a', 'b', 'c', True, 3.14)\n",
    "\n",
    "\n",
    "print(\"List size = \", sys.getsizeof(list_ex))\n",
    "print(\"Tuple size = \", sys.getsizeof(tuple_ex))"
   ]
  },
  {
   "cell_type": "code",
   "execution_count": null,
   "id": "8309b761-0b6f-4551-bb9b-996f0afecac2",
   "metadata": {},
   "outputs": [],
   "source": []
  }
 ],
 "metadata": {
  "kernelspec": {
   "display_name": "Python 3 (ipykernel)",
   "language": "python",
   "name": "python3"
  },
  "language_info": {
   "codemirror_mode": {
    "name": "ipython",
    "version": 3
   },
   "file_extension": ".py",
   "mimetype": "text/x-python",
   "name": "python",
   "nbconvert_exporter": "python",
   "pygments_lexer": "ipython3",
   "version": "3.11.7"
  }
 },
 "nbformat": 4,
 "nbformat_minor": 5
}
