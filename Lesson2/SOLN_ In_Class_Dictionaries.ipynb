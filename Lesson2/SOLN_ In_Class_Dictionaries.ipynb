{
 "cells": [
  {
   "cell_type": "markdown",
   "metadata": {},
   "source": [
    "# Homework: US Senator Lookup\n",
    "\n",
    "## The Problem\n",
    "\n",
    "Let's write a program similar to this unit's End-To-End Example. Instead of European countries this program will provide a drop-down of US states. When a state is selected, the program should display the US senators for that state.\n",
    "\n",
    "What information Should you display? Here is a sample of the 2 senators from the State of `NY`:\n",
    "\n",
    "## Sen. Charles “Chuck” Schumer [D-NY]\n",
    "\n",
    "    Senior Senator for New York\n",
    "    PARTY: Democrat\n",
    "    PHONE: 202-224-6542\n",
    "    WEBSITE: https://www.schumer.senate.gov\n",
    "    CONTACT: https://www.schumer.senate.gov/contact/email-chuck\n",
    "    \n",
    " ## Sen. Kirsten Gillibrand [D-NY]\n",
    "\n",
    "    Junior Senator for New York\n",
    "    PARTY: Democrat\n",
    "    PHONE: 202-224-4451\n",
    "    WEBSITE: https://www.gillibrand.senate.gov\n",
    "    CONTACT: https://www.gillibrand.senate.gov/contact/email-me\n",
    "\n",
    "\n",
    "HINTS:\n",
    "\n",
    "- Everything you will display for a senator can be found in the dictionary for that senator. Look at the keys available for a single senator as reference.\n",
    "- You will need to make a list of unqiue states from the senators.json file, similar to how to approaches the problem in last week's homework for product categories.\n",
    "\n",
    "### This Code will fetch the current US Senators from the web and save the results to a `US-Senators.json` file."
   ]
  },
  {
   "cell_type": "code",
   "execution_count": 2,
   "metadata": {},
   "outputs": [
    {
     "name": "stdout",
     "output_type": "stream",
     "text": [
      "Saved: US-Senators.json\n"
     ]
    }
   ],
   "source": [
    "import requests\n",
    "import json \n",
    "file='US-Senators.json'\n",
    "senators = requests.get('https://www.govtrack.us/api/v2/role?current=true&role_type=senator').json()['objects']\n",
    "with open(file,'w') as f:\n",
    "    f.write(json.dumps(senators))\n",
    "    print(f\"Saved: {file}\")"
   ]
  },
  {
   "cell_type": "markdown",
   "metadata": {
    "label": "problem_analysis_cell"
   },
   "source": [
    "## Part 1: Problem Analysis\n",
    "\n",
    "Inputs:\n",
    "\n",
    "```\n",
    "TODO: Inputs\n",
    "```\n",
    "\n",
    "Outputs:\n",
    "\n",
    "```\n",
    "TODO: Outputs\n",
    "```\n",
    "\n",
    "Algorithm (Steps in Program):  \n",
    "\n",
    "```\n",
    "TODO:Steps Here\n",
    "\n",
    "```"
   ]
  },
  {
   "cell_type": "markdown",
   "metadata": {},
   "source": [
    "## Part 2: Code Solution\n",
    "\n",
    "You may write your code in several cells, but place the complete, final working copy of your code solution within this single cell below. Only the within this cell will be considered your solution. Any imports or user-defined functions should be copied into this cell. "
   ]
  },
  {
   "cell_type": "code",
   "execution_count": 3,
   "metadata": {
    "label": "code_solution_cell"
   },
   "outputs": [
    {
     "data": {
      "application/vnd.jupyter.widget-view+json": {
       "model_id": "35d7e90a73b144ba813ebe5ebd42c8f1",
       "version_major": 2,
       "version_minor": 0
      },
      "text/plain": [
       "interactive(children=(Dropdown(description='State:', options=('Alabama', 'Alaska', 'Arizona', 'Arkansas', 'Cal…"
      ]
     },
     "metadata": {},
     "output_type": "display_data"
    }
   ],
   "source": [
    "# Step 2: Write code here\n",
    "\n",
    "import json\n",
    "from IPython.display import display, HTML\n",
    "import ipywidgets as widgets\n",
    "from ipywidgets import interact_manual\n",
    "\n",
    "# load data\n",
    "file = open('US-Senators.json')\n",
    "data = json.load(file)\n",
    "\n",
    "states_list = list(sorted(set([states['description'].split('Senator for ')[-1] for states in data])))\n",
    "\n",
    "\n",
    "@interact_manual(state=widgets.Dropdown(options=states_list, description='State:'))\n",
    "def main(state):\n",
    "    for x in data:\n",
    "        if state in x['description']:\n",
    "            display(HTML(f\"<h2><font color='black'>{x['person']['name']}</font></h2>\"))\n",
    "            print(x['description'])\n",
    "            print(f\"PARTY: {x['party']}\")\n",
    "            print(f\"PHONE: {x['phone']}\")\n",
    "            print(f\"WEBSITE: {x['website']}\")\n",
    "            print(f\"CONTACT: {x['extra']['contact_form']}\")\n",
    "\n"
   ]
  },
  {
   "cell_type": "code",
   "execution_count": 7,
   "metadata": {
    "tags": []
   },
   "outputs": [
    {
     "data": {
      "text/plain": [
       "{'caucus': None,\n",
       " 'congress_numbers': [116, 117, 118],\n",
       " 'current': True,\n",
       " 'description': 'Junior Senator for Washington',\n",
       " 'district': None,\n",
       " 'enddate': '2025-01-03',\n",
       " 'extra': {'address': '511 Hart Senate Office Building Washington DC 20510',\n",
       "  'contact_form': 'https://www.cantwell.senate.gov/public/index.cfm/email-maria',\n",
       "  'office': '511 Hart Senate Office Building',\n",
       "  'rss_url': 'http://www.cantwell.senate.gov/public/index.cfm/rss/feed'},\n",
       " 'leadership_title': None,\n",
       " 'party': 'Democrat',\n",
       " 'person': {'bioguideid': 'C000127',\n",
       "  'birthday': '1958-10-13',\n",
       "  'cspanid': 26137,\n",
       "  'fediverse_webfinger': None,\n",
       "  'firstname': 'Maria',\n",
       "  'gender': 'female',\n",
       "  'gender_label': 'Female',\n",
       "  'lastname': 'Cantwell',\n",
       "  'link': 'https://www.govtrack.us/congress/members/maria_cantwell/300018',\n",
       "  'middlename': '',\n",
       "  'name': 'Sen. Maria Cantwell [D-WA]',\n",
       "  'namemod': '',\n",
       "  'nickname': '',\n",
       "  'osid': 'N00007836',\n",
       "  'pvsid': None,\n",
       "  'sortname': 'Cantwell, Maria (Sen.) [D-WA]',\n",
       "  'twitterid': 'SenatorCantwell',\n",
       "  'youtubeid': 'SenatorCantwell'},\n",
       " 'phone': '202-224-3441',\n",
       " 'role_type': 'senator',\n",
       " 'role_type_label': 'Senator',\n",
       " 'senator_class': 'class1',\n",
       " 'senator_class_label': 'Class 1',\n",
       " 'senator_rank': 'junior',\n",
       " 'senator_rank_label': 'Junior',\n",
       " 'startdate': '2019-01-03',\n",
       " 'state': 'WA',\n",
       " 'title': 'Sen.',\n",
       " 'title_long': 'Senator',\n",
       " 'website': 'https://www.cantwell.senate.gov'}"
      ]
     },
     "execution_count": 7,
     "metadata": {},
     "output_type": "execute_result"
    }
   ],
   "source": [
    "data[0]"
   ]
  },
  {
   "cell_type": "code",
   "execution_count": null,
   "metadata": {},
   "outputs": [],
   "source": [
    "# Another approach\n",
    "\n",
    "import json        # imports json function\n",
    "from IPython.display import display, HTML # imports display function\n",
    "from ipywidgets import widgets, interact #imports interact function \n",
    "\n",
    "def loadfile():         # define the loadfile() function which used to load the senators into a list\n",
    "    with open('US-Senators.json','r') as f:   # read the json file \n",
    "        senators = json.load(f)  # Load the json file into List of Dictionary and assigned it to variable senators\n",
    "        return senators           # return senators\n",
    "    \n",
    "def getSenatorState(senators): # define this function which used to create a state list from senators list\n",
    "    state_list=[]              # set the state_list to an empty list\n",
    "    for s in senators:         # for each senator in the list\n",
    "        if s['state'] not in state_list:  # if senator's state not in the state_list\n",
    "            state_list.append(s['state']) # add that state to the state_list\n",
    "    state_list.sort()    # sort the state_list\n",
    "    return state_list    # return the final state_list\n",
    "\n",
    "senators = loadfile()    # define the variable : senators\n",
    "state_list = getSenatorState(senators)    #define the variable: state_list\n",
    "@interact(state = state_list)     # use interact function to creat a deop-down list of US states\n",
    "def main(state):       # define the main functino with state as inputs \n",
    "    for s in senators:    # for each senator in the list \n",
    "        if s['state'] == state:  # if the senator's state equals the selected state\n",
    "            s_name = s['person']['name'] \n",
    "            s_description=s['description']\n",
    "            s_party = s['party']\n",
    "            s_phone = s['phone']\n",
    "            s_website = s['website']\n",
    "            s_contact = s['extra']['contact_form']\n",
    "            \n",
    "            display(HTML(f\"<h1>{s_name}</h2>\")) # display the senators' name as the title\n",
    "            print (f\"{s_description}\")          # print out their description\n",
    "            print (f\"PARTY: {s_party}\")         # print out their party\n",
    "            print (f\"PHONE: {s_phone}\")         # print out their phone number\n",
    "            print (f\"WEBSITE: {s_website}\")     # print out their website\n",
    "            print (f\"CONTACT: {s_contact}\")     # print their contact information\n"
   ]
  },
  {
   "cell_type": "markdown",
   "metadata": {
    "label": "homework_questions_cell"
   },
   "source": [
    "## Part 3: Questions\n",
    "\n",
    "1. What are the advantages of using a dictionary for this information instead of a delimited file like in the previous homework?\n",
    "\n",
    "`--== Double-Click and Write Your Answer Below This Line ==--`  \n",
    "\n",
    "\n",
    "2. How easy would it be to write a similar program for World Leaders? Or College Professors? or NBA Players? What is different about each case?\n",
    "\n",
    "`--== Double-Click and Write Your Answer Below This Line ==--`  \n",
    "\n",
    "\n",
    "3. Explain your approach to figuring out which dictionary keys you needed to complete the program.\n",
    "\n",
    "`--== Double-Click and Write Your Answer Below This Line ==--`  \n",
    "\n",
    "\n"
   ]
  },
  {
   "cell_type": "markdown",
   "metadata": {
    "label": "reflection_cell"
   },
   "source": [
    "## Part 4: Reflection\n",
    "\n",
    "Reflect upon your experience completing this assignment. This should be a personal narrative, in your own voice, and cite specifics relevant to the activity as to help the grader understand how you arrived at the code you submitted. Things to consider touching upon: Elaborate on the process itself. Did your original problem analysis work as designed?  How many iterations did you go through before you arrived at the solution? Where did you struggle along the way and how did you overcome it? What did you learn from completing the assignment? What do you need to work on to get better? What was most valuable and least valuable about this exercise? Do you have any suggestions for improvements?\n",
    "\n",
    "To make a good reflection, you should journal your thoughts, questions and comments while you complete the exercise.\n",
    "\n",
    "Keep your response to between 100 and 250 words.\n",
    "\n",
    "`--== Double-Click and Write Your Reflection Below Here ==--`  \n"
   ]
  },
  {
   "cell_type": "code",
   "execution_count": null,
   "metadata": {},
   "outputs": [],
   "source": [
    "# run this code to turn in your work!\n",
    "from coursetools.submission import Submission\n",
    "Submission().submit()"
   ]
  }
 ],
 "metadata": {
  "anaconda-cloud": {},
  "kernelspec": {
   "display_name": "Python 3 (ipykernel)",
   "language": "python",
   "name": "python3"
  },
  "language_info": {
   "codemirror_mode": {
    "name": "ipython",
    "version": 3
   },
   "file_extension": ".py",
   "mimetype": "text/x-python",
   "name": "python",
   "nbconvert_exporter": "python",
   "pygments_lexer": "ipython3",
   "version": "3.11.7"
  },
  "toc": {
   "base_numbering": 1,
   "nav_menu": {},
   "number_sections": false,
   "sideBar": false,
   "skip_h1_title": false,
   "title_cell": "Table of Contents",
   "title_sidebar": "Contents",
   "toc_cell": false,
   "toc_position": {},
   "toc_section_display": false,
   "toc_window_display": false
  },
  "varInspector": {
   "cols": {
    "lenName": 16,
    "lenType": 16,
    "lenVar": 40
   },
   "kernels_config": {
    "python": {
     "delete_cmd_postfix": "",
     "delete_cmd_prefix": "del ",
     "library": "var_list.py",
     "varRefreshCmd": "print(var_dic_list())"
    },
    "r": {
     "delete_cmd_postfix": ") ",
     "delete_cmd_prefix": "rm(",
     "library": "var_list.r",
     "varRefreshCmd": "cat(var_dic_list()) "
    }
   },
   "types_to_exclude": [
    "module",
    "function",
    "builtin_function_or_method",
    "instance",
    "_Feature"
   ],
   "window_display": false
  }
 },
 "nbformat": 4,
 "nbformat_minor": 4
}
