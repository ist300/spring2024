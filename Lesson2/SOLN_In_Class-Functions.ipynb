{
 "cells": [
  {
   "cell_type": "markdown",
   "metadata": {
    "id": "y7iAbXZAfmum"
   },
   "source": [
    "# Class Coding Lab: Functions\n",
    "\n",
    "The goals of this lab are to help you to understand:\n",
    "\n",
    "- How to use Python's built-in functions in the standard library.\n",
    "- How to write user-defined functions\n",
    "- How to use other people's code.\n",
    "- The benefits of user-defined functions to code reuse and simplicity.\n",
    "- How to create a program to use functions to solve a complex idea\n",
    "\n",
    "We will demonstrate these through the following example:\n",
    "\n",
    "\n",
    "## The Credit Card Problem\n",
    "\n",
    "If you're going to do commerce on the web, you're going to support credit cards. But how do you know if a given number is valid? And how do you know which network issued the card?\n",
    "\n",
    "**Example:** Is `5300023581452982` a valid credit card number?Is it? Visa? MasterCard, Discover? or American Express?\n",
    "\n",
    "While eventually the card number is validated when you attempt to post a transaction, there's a lot of reasons why you might want to know its valid before the transaction takes place. The most common being just trying to catch an honest key-entry mistake made by your site visitor.\n",
    "\n",
    "So there are two things we'd like to figure out, for any \"potential\" card number:\n",
    "\n",
    "- Who is the issuing network? Visa, MasterCard, Discover or American Express.\n",
    "- IS the number potentially valid (as opposed to a made up series of digits)?\n",
    "\n",
    "### What does this have to do with functions?\n",
    "\n",
    "If we get this code to work, it seems like it might be useful to re-use it in several other programs we may write in the future. We can do this by writing the code as a **function**. Think of a function as an independent program its own inputs and output. The program is defined under a name so that we can use it simply by calling its name.\n",
    "\n",
    "**Example:** `n = int(\"50\")` the function `int()` takes the string `\"50\"` as input and converts it to an `int` value `50` which is then stored in the value `n`.\n",
    "\n",
    "When you create these credit card functions, we might want to re-use them by placing them in a **Module** which is a file with a collection of functions in it. Furthermore we can take a group of related modules and place them together in a Python **Package**. You install packages on your computer with the `pip` command.\n"
   ]
  },
  {
   "cell_type": "markdown",
   "metadata": {
    "id": "ey9tDml6fmuo"
   },
   "source": [
    "## Built-In Functions\n",
    "\n",
    "Let's start by checking out the built-in functions in Python's math library. We use the `dir()` function to list the names of the math library:\n"
   ]
  },
  {
   "cell_type": "code",
   "execution_count": 1,
   "metadata": {
    "code_cell_type": "run_code",
    "id": "uwWQv4IPfmuo",
    "scrolled": true,
    "tags": []
   },
   "outputs": [
    {
     "data": {
      "text/plain": [
       "['__doc__',\n",
       " '__file__',\n",
       " '__loader__',\n",
       " '__name__',\n",
       " '__package__',\n",
       " '__spec__',\n",
       " 'acos',\n",
       " 'acosh',\n",
       " 'asin',\n",
       " 'asinh',\n",
       " 'atan',\n",
       " 'atan2',\n",
       " 'atanh',\n",
       " 'cbrt',\n",
       " 'ceil',\n",
       " 'comb',\n",
       " 'copysign',\n",
       " 'cos',\n",
       " 'cosh',\n",
       " 'degrees',\n",
       " 'dist',\n",
       " 'e',\n",
       " 'erf',\n",
       " 'erfc',\n",
       " 'exp',\n",
       " 'exp2',\n",
       " 'expm1',\n",
       " 'fabs',\n",
       " 'factorial',\n",
       " 'floor',\n",
       " 'fmod',\n",
       " 'frexp',\n",
       " 'fsum',\n",
       " 'gamma',\n",
       " 'gcd',\n",
       " 'hypot',\n",
       " 'inf',\n",
       " 'isclose',\n",
       " 'isfinite',\n",
       " 'isinf',\n",
       " 'isnan',\n",
       " 'isqrt',\n",
       " 'lcm',\n",
       " 'ldexp',\n",
       " 'lgamma',\n",
       " 'log',\n",
       " 'log10',\n",
       " 'log1p',\n",
       " 'log2',\n",
       " 'modf',\n",
       " 'nan',\n",
       " 'nextafter',\n",
       " 'perm',\n",
       " 'pi',\n",
       " 'pow',\n",
       " 'prod',\n",
       " 'radians',\n",
       " 'remainder',\n",
       " 'sin',\n",
       " 'sinh',\n",
       " 'sqrt',\n",
       " 'tan',\n",
       " 'tanh',\n",
       " 'tau',\n",
       " 'trunc',\n",
       " 'ulp']"
      ]
     },
     "execution_count": 1,
     "metadata": {},
     "output_type": "execute_result"
    }
   ],
   "source": [
    "import math\n",
    "dir(math)"
   ]
  },
  {
   "cell_type": "markdown",
   "metadata": {
    "id": "zG-1w8-6fmup"
   },
   "source": [
    "If you look through the output, you'll see a `factorial` name. Let's see if it's a function we can use:"
   ]
  },
  {
   "cell_type": "code",
   "execution_count": 2,
   "metadata": {
    "code_cell_type": "run_code",
    "id": "tu2RIRPCfmup",
    "tags": []
   },
   "outputs": [
    {
     "name": "stdout",
     "output_type": "stream",
     "text": [
      "Help on built-in function factorial in module math:\n",
      "\n",
      "factorial(n, /)\n",
      "    Find n!.\n",
      "    \n",
      "    Raise a ValueError if x is negative or non-integral.\n",
      "\n"
     ]
    }
   ],
   "source": [
    "help(math.factorial)"
   ]
  },
  {
   "cell_type": "markdown",
   "metadata": {
    "id": "mhVxPE6Lfmup"
   },
   "source": [
    "It says it's a built-in function, and requies an integer value (which it referrs to as x, but that value is arbitrary) as an argument. Let's call the function and see if it works:"
   ]
  },
  {
   "cell_type": "code",
   "execution_count": null,
   "metadata": {
    "code_cell_type": "run_code",
    "id": "2I1R6fX_fmup",
    "outputId": "faa6d35b-c23b-491f-802e-53fab0d911a3",
    "tags": []
   },
   "outputs": [
    {
     "data": {
      "text/plain": [
       "120"
      ]
     },
     "execution_count": 3,
     "metadata": {},
     "output_type": "execute_result"
    }
   ],
   "source": [
    "math.factorial(5) #this is an example of \"calling\" the function with input 5. The output should be 120"
   ]
  },
  {
   "cell_type": "code",
   "execution_count": 4,
   "metadata": {
    "code_cell_type": "run_code",
    "id": "PkpgfALofmuq",
    "outputId": "935757dc-4be0-4ee3-904d-2ac2ca6e28a2",
    "tags": []
   },
   "outputs": [
    {
     "data": {
      "text/plain": [
       "1"
      ]
     },
     "execution_count": 4,
     "metadata": {},
     "output_type": "execute_result"
    }
   ],
   "source": [
    "math.factorial(0) # here we call the same function with input 0. The output should be 1."
   ]
  },
  {
   "cell_type": "markdown",
   "metadata": {
    "id": "MjK8Ak-Ffmuq"
   },
   "source": [
    "### 1.1 You Code\n",
    "\n",
    "Locate a module in Python. Show all the functions in the module. Demonstrate how one of the functions work. Use the help option."
   ]
  },
  {
   "cell_type": "code",
   "execution_count": 1,
   "metadata": {
    "code_cell_type": "write_code",
    "id": "6F-EP8oWfmuq",
    "label": "1.1",
    "solution": [
     "math.factorial(4)\n"
    ],
    "tags": []
   },
   "outputs": [],
   "source": [
    "#TODO write code here.\n"
   ]
  },
  {
   "cell_type": "markdown",
   "metadata": {
    "id": "P4h8xn43fmuq"
   },
   "source": [
    "## Using functions to print things awesome in Juypter\n",
    "\n",
    "Until this point we've used the boring `print()` function for our output. Let's do better. In the `IPython.display` module there are two functions `display()` and `HTML()`. The `display()` function outputs a Python object to the Jupyter notebook. The `HTML()` function creates a Python object from [HTML Markup](https://www.w3schools.com/html/html_intro.asp) as a string.\n",
    "\n",
    "For example this prints Hello in Heading 1.\n"
   ]
  },
  {
   "cell_type": "code",
   "execution_count": 5,
   "metadata": {
    "code_cell_type": "run_code",
    "id": "kL_-TvwDfmur",
    "tags": []
   },
   "outputs": [
    {
     "name": "stdout",
     "output_type": "stream",
     "text": [
      "Exciting:\n"
     ]
    },
    {
     "data": {
      "text/html": [
       "<h1>He<font color='red'>ll</font>o</h1>"
      ],
      "text/plain": [
       "<IPython.core.display.HTML object>"
      ]
     },
     "metadata": {},
     "output_type": "display_data"
    },
    {
     "name": "stdout",
     "output_type": "stream",
     "text": [
      "Boring:\n",
      "Hello\n"
     ]
    }
   ],
   "source": [
    "from IPython.display import display, HTML\n",
    "from ipywidgets import interact_manual\n",
    "\n",
    "print(\"Exciting:\")\n",
    "display(HTML(\"<h1>He<font color='red'>ll</font>o</h1>\"))\n",
    "print(\"Boring:\")\n",
    "print(\"Hello\")\n"
   ]
  },
  {
   "cell_type": "markdown",
   "metadata": {
    "id": "cuOyNrqdfmur"
   },
   "source": [
    "Let's keep the example going by writing two of our own functions to print a title and print text as normal, respectively.\n",
    "\n",
    "Execute this code:"
   ]
  },
  {
   "cell_type": "code",
   "execution_count": 6,
   "metadata": {
    "code_cell_type": "run_code",
    "id": "L2TfboExfmur",
    "tags": []
   },
   "outputs": [
    {
     "data": {
      "text/html": [
       "Hello !"
      ],
      "text/plain": [
       "<IPython.core.display.HTML object>"
      ]
     },
     "metadata": {},
     "output_type": "display_data"
    }
   ],
   "source": [
    "def print_title(text):\n",
    "    '''\n",
    "    This prints text to IPython.display as H1\n",
    "    '''\n",
    "    return display(HTML(\"<H1>\" + text + \"</H1>\"))\n",
    "\n",
    "def print_normal(text):\n",
    "    '''\n",
    "    this prints text to IPython.display as normal text\n",
    "    '''\n",
    "    return display(HTML(text))\n",
    "\n",
    "print_normal(\"Hello !\")"
   ]
  },
  {
   "cell_type": "markdown",
   "metadata": {
    "id": "id5XuUfYfmur"
   },
   "source": [
    "Now let's use these two functions in a familiar program, along with `interact_manual()` to make the inputs as awesome as the outputs!"
   ]
  },
  {
   "cell_type": "code",
   "execution_count": 7,
   "metadata": {
    "code_cell_type": "run_code",
    "colab": {
     "referenced_widgets": [
      "b1ab67780d8d4a13bb6b4860842fa1a1"
     ]
    },
    "id": "cYEVRUsrfmur",
    "outputId": "9f6fa5d3-71b7-41be-9643-2753761a1e04",
    "tags": []
   },
   "outputs": [
    {
     "data": {
      "text/html": [
       "<H1>Area of a Rectangle</H1>"
      ],
      "text/plain": [
       "<IPython.core.display.HTML object>"
      ]
     },
     "metadata": {},
     "output_type": "display_data"
    },
    {
     "data": {
      "application/vnd.jupyter.widget-view+json": {
       "model_id": "a1792969d7e541e89cbc528f5828e342",
       "version_major": 2,
       "version_minor": 0
      },
      "text/plain": [
       "interactive(children=(IntSlider(value=12, description='length', max=25), IntSlider(value=12, description='widt…"
      ]
     },
     "metadata": {},
     "output_type": "display_data"
    }
   ],
   "source": [
    "print_title(\"Area of a Rectangle\")\n",
    "@interact_manual(length=(0,25),width=(0,25))\n",
    "def area(length, width):\n",
    "    area = length * width\n",
    "    print_normal(f\"The area is {area}.\")\n"
   ]
  },
  {
   "cell_type": "code",
   "execution_count": 8,
   "metadata": {
    "id": "y7PCRU8Ofmur",
    "tags": []
   },
   "outputs": [
    {
     "data": {
      "application/vnd.jupyter.widget-view+json": {
       "model_id": "a6e16faf68e24a908c5acc29ed977aa9",
       "version_major": 2,
       "version_minor": 0
      },
      "text/plain": [
       "interactive(children=(Text(value='', continuous_update=False, description='name'), IntSlider(value=41, descrip…"
      ]
     },
     "metadata": {},
     "output_type": "display_data"
    }
   ],
   "source": [
    "from ipywidgets import interact_manual\n",
    "@interact_manual(name=\"\",age=(1,100,10),gpa=(0.0,4.0,0.05))\n",
    "def doit(name, age, gpa):\n",
    "    print(f\"{name} is {age} years old and has a {gpa} GPA.\")\n",
    "\n"
   ]
  },
  {
   "cell_type": "markdown",
   "metadata": {
    "id": "z5KtW9vnfmur"
   },
   "source": [
    "## Get Down with OPC (Other People's Code)\n",
    "\n",
    "Now that we know a bit about **Packages**, **Modules**, and **Functions** let me expand your horizons a bit. There's a whole world of Python code out there that you can use, and it's what makes Python the powerful and popular programming language that it is today.  All you need to do to use it is *read*!\n",
    "\n",
    "For example. Let's say I want to print some emojis in Python. I might search the Python Package Index [https://pypi.org/](https://pypi.org/) for some modules to try.\n",
    "\n",
    "For example this one: https://pypi.org/project/emoji/\n",
    "\n",
    "Let's take it for a spin!\n"
   ]
  },
  {
   "cell_type": "markdown",
   "metadata": {
    "id": "FL3zA6Aafmur"
   },
   "source": [
    "### Installing with pip\n",
    "\n",
    "First we need to install the package with the `pip` utility. This runs from the command line, so to execute pip within our notebook we use the bang `!` operator.\n",
    "\n",
    "This downloads the package and installs it into your Python environment, so that you can `import` it."
   ]
  },
  {
   "cell_type": "code",
   "execution_count": 9,
   "metadata": {
    "code_cell_type": "run_code",
    "id": "MqKAzpbmfmur",
    "tags": []
   },
   "outputs": [
    {
     "name": "stdout",
     "output_type": "stream",
     "text": [
      "Collecting emoji\n",
      "  Downloading emoji-2.10.1-py2.py3-none-any.whl.metadata (5.3 kB)\n",
      "Downloading emoji-2.10.1-py2.py3-none-any.whl (421 kB)\n",
      "\u001b[2K   \u001b[90m━━━━━━━━━━━━━━━━━━━━━━━━━━━━━━━━━━━━━━━━\u001b[0m \u001b[32m421.5/421.5 kB\u001b[0m \u001b[31m13.6 MB/s\u001b[0m eta \u001b[36m0:00:00\u001b[0m\n",
      "\u001b[?25hInstalling collected packages: emoji\n",
      "Successfully installed emoji-2.10.1\n"
     ]
    }
   ],
   "source": [
    "!pip install emoji"
   ]
  },
  {
   "cell_type": "markdown",
   "metadata": {
    "id": "pJ_UncQBfmus"
   },
   "source": [
    "Once the package is installed we can use it. Learning how to use it is just a matter of reading the documentation and trying things out. There are no short-cuts here! For example:"
   ]
  },
  {
   "cell_type": "code",
   "execution_count": 10,
   "metadata": {
    "code_cell_type": "run_code",
    "id": "p8CTen17fmus",
    "tags": []
   },
   "outputs": [
    {
     "name": "stdout",
     "output_type": "stream",
     "text": [
      "Python is 👍\n",
      "But I thought this 🥼 was supposed to be about 💳 ??\n"
     ]
    }
   ],
   "source": [
    "# TODO: Run this\n",
    "import emoji\n",
    "print(emoji.emojize('Python is :thumbs_up:'))\n",
    "print(emoji.emojize('But I thought this :lab_coat: was supposed to be about :credit_card: ??'))"
   ]
  },
  {
   "cell_type": "markdown",
   "metadata": {
    "id": "ErSAdQyufmus"
   },
   "source": [
    "### 1.2 You Code\n",
    "\n",
    "Write a python program to print the bacon, ice cream, and thumbs-down emojis on a single line."
   ]
  },
  {
   "cell_type": "code",
   "execution_count": 11,
   "metadata": {
    "code_cell_type": "write_code",
    "id": "6YHCdkhUfmus",
    "label": "1.2",
    "solution": [
     "print(emoji.emojize(\":bacon: :ice_cream: :thumbs_down:\"))\n"
    ],
    "tags": []
   },
   "outputs": [
    {
     "data": {
      "text/html": [
       "<H1>🥓 🍨 👎</H1>"
      ],
      "text/plain": [
       "<IPython.core.display.HTML object>"
      ]
     },
     "metadata": {},
     "output_type": "display_data"
    }
   ],
   "source": [
    "## TODO: Write your code here\n",
    "print_title((emoji.emojize(':bacon: :ice_cream: :thumbs_down:')))"
   ]
  },
  {
   "cell_type": "markdown",
   "metadata": {
    "id": "NQwax3LPfmus"
   },
   "source": [
    "## Let's get back to credit cards....\n",
    "\n",
    "Now that we know  a bit about **Packages**, **Modules**, and **Functions** let's attempt to write our first function. Let's tackle the easier of our two credit card related problems:\n",
    "\n",
    "- Who is the issuing network? Visa, MasterCard, Discover or American Express.\n",
    "\n",
    "This problem can be solved by looking at the first digit of the card number:\n",
    "\n",
    " - \"4\" ==> \"Visa\"\n",
    " - \"5\" ==> \"MasterCard\"\n",
    " - \"6\" ==> \"Discover\"\n",
    " - \"3\" ==> \"American Express\"\n",
    "\n",
    "So for card number `5300023581452982` the issuer is \"MasterCard\".\n",
    "\n",
    "It should be easy to write a program to solve this problem. Here's the algorithm:\n",
    "\n",
    "```\n",
    "input credit card number into variable card\n",
    "get the first digit of the card number (eg. digit = card[0])\n",
    "if digit equals \"4\"\n",
    "    the card issuer \"Visa\"\n",
    "elif digit equals \"5\"\n",
    "    the card issuer \"MasterCard\"\n",
    "elif digit equals \"6\"\n",
    "    the card issuer is \"Discover\"\n",
    "elif digit equals \"3\"\n",
    "    the card issues is \"American Express\"\n",
    "else\n",
    "    the issuer is \"Invalid\"    \n",
    "print issuer\n",
    "```\n",
    "\n",
    "### 1.3 You Code\n",
    "\n",
    "Wrire the code so that it prints the correct issuer based on the card used"
   ]
  },
  {
   "cell_type": "code",
   "execution_count": 13,
   "metadata": {
    "code_cell_type": "debug_code",
    "id": "SPbRaBVafmus",
    "label": "1.3",
    "solution": [
     "card = input(\"Enter a credit card: \")\n",
     "digit = card[0]\n",
     "if digit == '4':\n",
     "    issuer = \"Visa\"\n",
     "elif digit == '5':\n",
     "    issuer = \"Mastercard\"\n",
     "elif digit == '6':\n",
     "    issuer = \"Discover\"\n",
     "elif digit == '3':\n",
     "    issuer = \"American Express\"\n",
     "else:\n",
     "    issuer = \"Invalid\"\n",
     "print(issuer)\n"
    ],
    "tags": []
   },
   "outputs": [
    {
     "name": "stdin",
     "output_type": "stream",
     "text": [
      "Enter a credit card 557\n"
     ]
    },
    {
     "name": "stdout",
     "output_type": "stream",
     "text": [
      "Master Card\n"
     ]
    }
   ],
   "source": [
    "## TODO: Write code here\n",
    "card = input(\"Enter a credit card\")\n",
    "digit = card[0]\n",
    "if digit == '4':\n",
    "    issuer = \"Visa\"\n",
    "elif digit == '5':\n",
    "    issuer = \"Master Card\"\n",
    "elif digit ==  '6':\n",
    "    issuer = \"Discover\"\n",
    "elif digit == '3':\n",
    "    issuer = \"American Express\"\n",
    "else:\n",
    "    issuer = \"Invalid\"\n",
    "print(issuer)"
   ]
  },
  {
   "cell_type": "code",
   "execution_count": 1,
   "metadata": {
    "id": "HHNSI7zlfmus",
    "tags": []
   },
   "outputs": [],
   "source": []
  },
  {
   "cell_type": "markdown",
   "metadata": {
    "id": "PumcGXcjfmus"
   },
   "source": [
    "**IMPORTANT** Make sure to test your code by running it 5 times. You should test issuer and also the \"Invalid Card\" case.\n",
    "\n",
    "## Introducing the Write - Refactor - Test - Rewrite approach\n",
    "\n",
    "It would be nice to re-write this code to use a function. This can seem daunting / confusing for beginner programmers, which is why we teach the **Write - Refactor - Test - Rewrite** approach. In this approach you write the ENTIRE PROGRAM and then REWRITE IT to use functions. Yes, it's inefficient, but until you get comfotable thinking \"functions first\" its the best way to modularize your code with functions. Here's the approach:\n",
    "\n",
    "1. Write the code\n",
    "2. Refactor (change the code around) to use a function\n",
    "3. Test the function by calling it\n",
    "4. Rewrite the original code to use the new function.\n",
    "\n",
    "\n",
    "We already did step 1: Write so let's move on to:\n",
    "\n",
    "### 1.4 You Code: refactor\n",
    "\n",
    "Let's strip the logic out of the above code to accomplish the task of the function:\n",
    "\n",
    "- Send into the function as input a credit card number as a `str`\n",
    "- Return back from the function as output the issuer of the card as a `str`\n",
    "\n",
    "To help you out we've written the function stub for you all you need to do is write the function body code."
   ]
  },
  {
   "cell_type": "code",
   "execution_count": 14,
   "metadata": {
    "code_cell_type": "debug_code",
    "id": "OOk_LUQrfmus",
    "label": "1.4",
    "solution": [
     "def CardIssuer(card):\n",
     "    ## TODO write code here they should be the same as lines 3-13 from the code above\n",
     "    digit = card[0]\n",
     "    if digit == '4':\n",
     "        issuer = \"Visa\"\n",
     "    elif digit == '5':\n",
     "        issuer = \"Mastercard\"\n",
     "    elif digit == '6':\n",
     "        issuer = \"Discover\"\n",
     "    elif digit == '3':\n",
     "        issuer = 'American Express'\n",
     "    else:\n",
     "        issuer = \"Invalid\"\n",
     "    # the last line in the function should return the output\n",
     "    return issuer\n"
    ],
    "tags": []
   },
   "outputs": [],
   "source": [
    "def CardIssuer(card):\n",
    "    ## TODO write code here as a function\n",
    "    \n",
    "\n",
    "    digit = card[0]\n",
    "    if digit == '4':\n",
    "        issuer = \"Visa\"\n",
    "    elif digit == '5':\n",
    "        issuer = \"Master Card\"\n",
    "    elif digit ==  '6':\n",
    "        issuer = \"Discover\"\n",
    "    elif digit == '3':\n",
    "        issuer = \"American Express\"\n",
    "    else:\n",
    "        issuer = \"Invalid\"\n",
    "    return issuer"
   ]
  },
  {
   "cell_type": "code",
   "execution_count": 16,
   "metadata": {
    "id": "GsHE-RImfmus",
    "tags": []
   },
   "outputs": [
    {
     "name": "stdout",
     "output_type": "stream",
     "text": [
      "Visa\n"
     ]
    }
   ],
   "source": []
  },
  {
   "cell_type": "markdown",
   "metadata": {
    "id": "CjyyuRW8fmus"
   },
   "source": [
    "### Step 3: Test\n",
    "```\n",
    "\n",
    "### 1.5 You Code: Tests\n",
    "\n",
    "Write the tests based for your function:"
   ]
  },
  {
   "cell_type": "markdown",
   "metadata": {
    "id": "Hcs51Kknfmut"
   },
   "source": [
    "### Step 4: Rewrite\n",
    "\n",
    "The final step is to re-write the original program, but use the function instead. The algorithm becomes\n",
    "\n",
    "```\n",
    "input credit card number into variable card\n",
    "call the CardIssuer function with card as input, issuer as output\n",
    "print issuer\n",
    "```\n",
    "\n",
    "### 1.6 You Code\n",
    "\n",
    "Re-write the program. It should be 3 lines of code:\n",
    "\n",
    "- input card\n",
    "- call issuer function\n",
    "- print issuer\n"
   ]
  },
  {
   "cell_type": "code",
   "execution_count": 2,
   "metadata": {
    "code_cell_type": "write_code",
    "id": "V-6tv8ihfmut",
    "label": "1.6",
    "solution": [
     "card = input(\"Enter a card: \")\n",
     "issuer = CardIssuer(card)\n",
     "print(issuer)\n"
    ],
    "tags": []
   },
   "outputs": [],
   "source": [
    "# TODO Re-write the program here, calling our function.\n",
    "card = \"4567890\"\n",
    "issuer = CardIssuer(card)\n",
    "print(issuer)\n"
   ]
  },
  {
   "cell_type": "markdown",
   "metadata": {
    "id": "ttb6Sndxfmut"
   },
   "source": [
    "## Functions are abstractions. Abstractions are good.\n",
    "\n",
    "\n",
    "Step on the accellerator and the car goes. How does it work? Who cares, it's an abstraction! Functions are the same way. Don't believe me. Consider the Luhn Check Algorithm: https://en.wikipedia.org/wiki/Luhn_algorithm\n",
    "\n",
    "This nifty little algorithm is used to verify that a sequence of digits is possibly a credit card number (as opposed to just a sequence of numbers). It uses a verfication approach called a **checksum** to as it uses a formula to figure out the validity.\n",
    "\n",
    "Here's the function which given a card will let you know if it passes the Luhn check:\n"
   ]
  },
  {
   "cell_type": "code",
   "execution_count": 17,
   "metadata": {
    "code_cell_type": "run_code",
    "id": "QTDkl3lVfmut",
    "tags": []
   },
   "outputs": [],
   "source": [
    "# Todo: execute this code\n",
    "\n",
    "def checkLuhn(card):\n",
    "    ''' This Luhn algorithm was adopted from the pseudocode here: https://en.wikipedia.org/wiki/Luhn_algorithm'''\n",
    "    total = 0\n",
    "    length = len(card)\n",
    "    parity = length % 2\n",
    "    for i in range(length):\n",
    "        digit = int(card[i])\n",
    "        if i%2 == parity:\n",
    "            digit = digit * 2\n",
    "            if digit > 9:\n",
    "                digit = digit -9\n",
    "        total = total + digit\n",
    "    return total % 10 == 0\n"
   ]
  },
  {
   "cell_type": "code",
   "execution_count": null,
   "metadata": {
    "id": "AL7qHx0pfmut"
   },
   "outputs": [],
   "source": []
  },
  {
   "cell_type": "markdown",
   "metadata": {
    "id": "kbuj0lRxfmu6"
   },
   "source": [
    "### Is that a credit card number or the ramblings of a madman?\n",
    "\n",
    "In order to test the `checkLuhn()` function you need some credit card numbers. (Don't look at me... you ain't gettin' mine!!!!) Not to worry, the internet has you covered. The website: http://www.getcreditcardnumbers.com/ is not some mysterious site on the dark web. It's a site for generating \"test\" credit card numbers. You can't buy anything with these numbers, but they will pass the Luhn test.\n",
    "\n",
    "Grab a couple of numbers and test the Luhn function as we did with the `CardIssuer()` function. Write at least to tests like these ones:\n",
    "\n",
    "\n"
   ]
  },
  {
   "cell_type": "code",
   "execution_count": 3,
   "metadata": {
    "code_cell_type": "run_code",
    "id": "BQX3rRqRfmu6",
    "tags": []
   },
   "outputs": [],
   "source": [
    "#TODO Write your tests for the checkLuhn function here\n"
   ]
  },
  {
   "cell_type": "markdown",
   "metadata": {
    "id": "ertiDmjQfmu6"
   },
   "source": [
    "## Putting it all together\n",
    "\n",
    "Finally let's use all the functions we wrote/used in this lab to make a really cool program to validate creditcard numbers. Tools we will use:\n",
    "\n",
    "- `interact_manual()` to transform the creditcard input into a textbox\n",
    "- `cardIssuer()` to see if the card is a Visa, MC, Discover, Amex.\n",
    "- `checkLuhn()` to see if the card number passes the Lhun check\n",
    "- `print_title()` to display the title\n",
    "- `print_normal()` to display the output\n",
    "- `emoji.emojize()` to draw a thumbs up (passed Lhun check) or thumbs down (did not pass Lhun check).\n",
    "\n",
    "Here's the Algorithm:\n",
    "```\n",
    "print the title \"credit card validator\"\n",
    "write an interact function with card as input\n",
    "    get the card issuer\n",
    "    if the card passes lhun check\n",
    "        use thumbs up emoji\n",
    "    else\n",
    "        use thumbs down emoji\n",
    "    print in normal text the emoji icon and the card issuer\n",
    "    \n",
    "```\n",
    "\n",
    "### 1.7 You Code"
   ]
  },
  {
   "cell_type": "code",
   "execution_count": 18,
   "metadata": {
    "code_cell_type": "write_code",
    "colab": {
     "referenced_widgets": [
      "da3df1c4e0b24207aa0c5366c52d588d"
     ]
    },
    "id": "T2xAw6wKfmu6",
    "label": "1.7",
    "outputId": "70dea71d-5776-4825-d42b-001bf7221ef1",
    "solution": [
     "print_title(\"Credit Card Validator\")\n",
     "@interact_manual(card=\"\")\n",
     "def main(card):\n",
     "    issuer = CardIssuer(card)\n",
     "    if checkLuhn(card):\n",
     "        icon = \":thumbs_up:\"\n",
     "    else:\n",
     "        icon = \":thumbs_down:\" \n",
     "    print_normal(emoji.emojize(f\"{icon} {issuer}\"))\n"
    ],
    "tags": []
   },
   "outputs": [
    {
     "data": {
      "text/html": [
       "<H1>Credit Card Validator</H1>"
      ],
      "text/plain": [
       "<IPython.core.display.HTML object>"
      ]
     },
     "metadata": {},
     "output_type": "display_data"
    },
    {
     "data": {
      "application/vnd.jupyter.widget-view+json": {
       "model_id": "86e7fdd476a249b08ae212371dc7150e",
       "version_major": 2,
       "version_minor": 0
      },
      "text/plain": [
       "interactive(children=(Text(value='', continuous_update=False, description='card'), Button(description='Run Int…"
      ]
     },
     "metadata": {},
     "output_type": "display_data"
    }
   ],
   "source": [
    "## TODO Write code here\n",
    "from IPython.display import display, HTML\n",
    "from ipywidgets import interact_manual\n",
    "\n",
    "\n",
    "#Function to format title\n",
    "\n",
    "\n",
    "# Function for check issuer\n",
    "#def CardIssuer(card):\n",
    "\n",
    "\n",
    "# Function to check credit card validity\n",
    "\n",
    "\n",
    "#Program\n",
    "print_title(\"Credit Card Validator\")\n",
    "@interact_manual(card=\"\")\n",
    "def main(card):\n",
    "    issuer = CardIssuer(card)\n",
    "    if checkLuhn(card):\n",
    "        ok = \":thumbs_up:\"\n",
    "    else:\n",
    "        ok =\":thumbs_down:\"\n",
    "    print(emoji.emojize(f\"{ok} {issuer}\"))\n",
    "\n"
   ]
  },
  {
   "cell_type": "markdown",
   "metadata": {
    "id": "L4PwYyN6fmu7"
   },
   "source": [
    "##### Metacognition\n",
    "\n"
   ]
  },
  {
   "cell_type": "markdown",
   "metadata": {
    "id": "-u3oa2hTfmu7",
    "label": "comfort_cell"
   },
   "source": [
    "\n",
    "### Rate your comfort level with this week's material so far.   \n",
    "\n",
    "**1** ==> I don't understand this at all yet and need extra help. If you choose this please try to articulate that which you do not understand to the best of your ability in the questions and comments section below.  \n",
    "**2** ==> I can do this with help or guidance from other people or resources. If you choose this level, please indicate HOW this person helped you in the questions and comments section below.   \n",
    "**3** ==> I can do this on my own without any help.   \n",
    "**4** ==> I can do this on my own and can explain/teach how to do it to others.\n",
    "\n",
    "`--== Double-Click Here then Enter a Number 1 through 4 Below This Line ==--`  \n",
    "\n"
   ]
  }
 ],
 "metadata": {
  "anaconda-cloud": {},
  "colab": {
   "provenance": []
  },
  "kernelspec": {
   "display_name": "Python 3 (ipykernel)",
   "language": "python",
   "name": "python3"
  },
  "language_info": {
   "codemirror_mode": {
    "name": "ipython",
    "version": 3
   },
   "file_extension": ".py",
   "mimetype": "text/x-python",
   "name": "python",
   "nbconvert_exporter": "python",
   "pygments_lexer": "ipython3",
   "version": "3.11.7"
  },
  "toc": {
   "base_numbering": 1,
   "nav_menu": {},
   "number_sections": false,
   "sideBar": false,
   "skip_h1_title": false,
   "title_cell": "Table of Contents",
   "title_sidebar": "Contents",
   "toc_cell": false,
   "toc_position": {},
   "toc_section_display": false,
   "toc_window_display": false
  },
  "varInspector": {
   "cols": {
    "lenName": 16,
    "lenType": 16,
    "lenVar": 40
   },
   "kernels_config": {
    "python": {
     "delete_cmd_postfix": "",
     "delete_cmd_prefix": "del ",
     "library": "var_list.py",
     "varRefreshCmd": "print(var_dic_list())"
    },
    "r": {
     "delete_cmd_postfix": ") ",
     "delete_cmd_prefix": "rm(",
     "library": "var_list.r",
     "varRefreshCmd": "cat(var_dic_list()) "
    }
   },
   "types_to_exclude": [
    "module",
    "function",
    "builtin_function_or_method",
    "instance",
    "_Feature"
   ],
   "window_display": false
  }
 },
 "nbformat": 4,
 "nbformat_minor": 4
}
