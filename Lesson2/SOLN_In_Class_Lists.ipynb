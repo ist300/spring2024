{
 "cells": [
  {
   "cell_type": "markdown",
   "metadata": {
    "id": "AECwHN0zmdFy"
   },
   "source": [
    "# In Class: The Fudgemart Products Catalog\n",
    "\n",
    "\n",
    "## The Problem\n",
    "\n",
    "**Fudgemart**, a knockoff of a company with a similar name, has hired you to create a program to browse their product catalog.\n",
    "\n",
    "Write an ipython interactive program that allows the user to select a product category from the drop-down and then displays all of the fudgemart products within that category. You can accomplish this any way you like and the only requirements are you must:\n",
    "\n",
    "- load each product from the `fudgemart-products.txt` file into a list.\n",
    "- build the  list of product catagories dynamically ( you cannot hard-code the categories in)\n",
    "- print the product name and price for all products selected\n",
    "- use ipython interact to create a drop-down for the user interface.\n",
    "\n",
    "\n",
    "FILE FORMAT:\n",
    "\n",
    " - the file `fudgemart-products.txt`  has one row per product\n",
    " - each row is delimited by a `|` character.\n",
    " - there are three items in each row. category, product name, and price.\n",
    " - Example Row: `Hardware|Ball Peen Hammer|15.99`\n",
    "   - Category = `Hardware`\n",
    "   - Product = `Ball Peen Hammer`\n",
    "   - Price = `15.99`\n",
    "\n",
    "HINTS:\n",
    "\n",
    "- Draw upon the lessons and examples in the lab and small group. We covered using interact with a dropdown, reading from files into lists, etc.\n",
    "- There is a sample file, `test-fudgemart-products.txt` which you can use to test your code and not have to deal with the number of rows in the actual file `fudgemart-products.txt`. Your code should work with either file. The test file has 3 products and 2 categories. One it works with the test file, switch to the other file!\n",
    "- The unique challenge of this homework creating the list of prodct categories. You can do this when you read the file or use the list of all products to create the categories.\n",
    "\n",
    "### Code to fetch data files"
   ]
  },
  {
   "cell_type": "code",
   "execution_count": 1,
   "metadata": {
    "id": "nN2zmA6pmdF1"
   },
   "outputs": [
    {
     "name": "stdout",
     "output_type": "stream",
     "text": [
      "  % Total    % Received % Xferd  Average Speed   Time    Time     Time  Current\n",
      "                                 Dload  Upload   Total   Spent    Left  Speed\n",
      "100    60  100    60    0     0    338      0 --:--:-- --:--:-- --:--:--   338\n",
      "  % Total    % Received % Xferd  Average Speed   Time    Time     Time  Current\n",
      "                                 Dload  Upload   Total   Spent    Left  Speed\n",
      "100  1781  100  1781    0     0   8591      0 --:--:-- --:--:-- --:--:--  8603\n"
     ]
    }
   ],
   "source": [
    "! curl https://raw.githubusercontent.com/mafudge/datasets/master/ist256/08-Lists/test-fudgemart-products.txt -o test-fudgemart-products.txt\n",
    "! curl https://raw.githubusercontent.com/mafudge/datasets/master/ist256/08-Lists/fudgemart-products.txt -o fudgemart-products.txt"
   ]
  },
  {
   "cell_type": "markdown",
   "metadata": {
    "id": "7VKde7mamdF2",
    "label": "problem_analysis_cell"
   },
   "source": [
    "## Part 1: Problem Analysis\n",
    "\n",
    "Inputs:\n",
    "\n",
    "```\n",
    "TODO: Inputs\n",
    "```\n",
    "\n",
    "Outputs:\n",
    "\n",
    "```\n",
    "TODO: Outputs\n",
    "```\n",
    "\n",
    "Algorithm (Steps in Program):  \n",
    "\n",
    "```\n",
    "TODO:Steps Here\n",
    "\n",
    "```"
   ]
  },
  {
   "cell_type": "markdown",
   "metadata": {
    "id": "pBmLkcmhmdF3"
   },
   "source": [
    "## Part 2: Code Solution\n",
    "\n",
    "You may write your code in several cells, but place the complete, final working copy of your code solution within this single cell below. Only the within this cell will be considered your solution. Any imports or user-defined functions should be copied into this cell."
   ]
  },
  {
   "cell_type": "code",
   "execution_count": 2,
   "metadata": {
    "id": "00ONB8RymdF3",
    "label": "code_solution_cell"
   },
   "outputs": [
    {
     "data": {
      "application/vnd.jupyter.widget-view+json": {
       "model_id": "983b3851666d4a2ea0df2dd1864f1b41",
       "version_major": 2,
       "version_minor": 0
      },
      "text/plain": [
       "Dropdown(description='Category:', options=('Hardware', 'Clothing', 'Electronics', 'Housewares', 'Sporting Good…"
      ]
     },
     "metadata": {},
     "output_type": "display_data"
    }
   ],
   "source": [
    "# Step 2: Write code here\n",
    "import pandas as pd\n",
    "import ipywidgets as widgets\n",
    "from IPython.display import display\n",
    "\n",
    "def get_data():\n",
    "    data = pd.read_csv(\"fudgemart-products.txt\", sep = '|', header = None)\n",
    "    data.columns =['Category', 'Product', 'Price']\n",
    "    return data\n",
    "\n",
    "def print_state(change):\n",
    "    print(data[data.Category == change.new])\n",
    "\n",
    "data = get_data()\n",
    "categories = data.Category.unique()\n",
    "dropdown = widgets.Dropdown(options=categories, description=\"Category:\")\n",
    "dropdown.observe(print_state, names=\"value\")\n",
    "display(dropdown)\n"
   ]
  },
  {
   "cell_type": "code",
   "execution_count": null,
   "metadata": {},
   "outputs": [],
   "source": [
    "# Another approach \n",
    "\n",
    "from ipywidgets import interact_manual \n",
    "\n",
    "#user-defined functions\n",
    "\n",
    "def loadProducts(filename):\n",
    "    with open(filename, \"r\") as r:\n",
    "        return r.readlines()\n",
    "\n",
    "def createCategories(prod_list):\n",
    "    for prod in prod_list:\n",
    "        prod_cat = prod.split(\"|\")[0]\n",
    "        if prod_cat not in cat_list:\n",
    "            cat_list.append(prod_cat)\n",
    "    return cat_list\n",
    "\n",
    "prod_list = loadProducts(\"fudgemart-products.txt\")\n",
    "cat_list = createCategories(prod_list)\n",
    "@interact_manual(category = cat_list)\n",
    "def find_products(category):\n",
    "    for item in prod_list:\n",
    "        if item.startswith(category):\n",
    "            product = item.split(\"|\")[1]\n",
    "            price = item.split(\"|\")[2]\n",
    "            print(product, price) "
   ]
  },
  {
   "cell_type": "markdown",
   "metadata": {
    "id": "6SuuK00smdF3",
    "label": "reflection_cell"
   },
   "source": [
    "## Part 3: Reflection\n",
    "\n",
    "Reflect upon your experience completing this assignment. This should be a personal narrative, in your own voice, and cite specifics relevant to the activity as to help the grader understand how you arrived at the code you submitted. Things to consider touching upon: Elaborate on the process itself. Did your original problem analysis work as designed?  How many iterations did you go through before you arrived at the solution? Where did you struggle along the way and how did you overcome it? What did you learn from completing the assignment? What do you need to work on to get better? What was most valuable and least valuable about this exercise? Do you have any suggestions for improvements?\n",
    "\n",
    "To make a good reflection, you should journal your thoughts, questions and comments while you complete the exercise.\n",
    "\n",
    "Keep your response to between 100 and 250 words.\n",
    "\n",
    "`--== Double-Click and Write Your Reflection Below Here ==--`  \n"
   ]
  },
  {
   "cell_type": "code",
   "execution_count": null,
   "metadata": {
    "id": "tOVxv62rmdF3"
   },
   "outputs": [],
   "source": []
  }
 ],
 "metadata": {
  "anaconda-cloud": {},
  "colab": {
   "provenance": []
  },
  "kernelspec": {
   "display_name": "Python 3 (ipykernel)",
   "language": "python",
   "name": "python3"
  },
  "language_info": {
   "codemirror_mode": {
    "name": "ipython",
    "version": 3
   },
   "file_extension": ".py",
   "mimetype": "text/x-python",
   "name": "python",
   "nbconvert_exporter": "python",
   "pygments_lexer": "ipython3",
   "version": "3.11.7"
  },
  "toc": {
   "base_numbering": 1,
   "nav_menu": {},
   "number_sections": false,
   "sideBar": false,
   "skip_h1_title": false,
   "title_cell": "Table of Contents",
   "title_sidebar": "Contents",
   "toc_cell": false,
   "toc_position": {},
   "toc_section_display": false,
   "toc_window_display": false
  },
  "varInspector": {
   "cols": {
    "lenName": 16,
    "lenType": 16,
    "lenVar": 40
   },
   "kernels_config": {
    "python": {
     "delete_cmd_postfix": "",
     "delete_cmd_prefix": "del ",
     "library": "var_list.py",
     "varRefreshCmd": "print(var_dic_list())"
    },
    "r": {
     "delete_cmd_postfix": ") ",
     "delete_cmd_prefix": "rm(",
     "library": "var_list.r",
     "varRefreshCmd": "cat(var_dic_list()) "
    }
   },
   "types_to_exclude": [
    "module",
    "function",
    "builtin_function_or_method",
    "instance",
    "_Feature"
   ],
   "window_display": false
  }
 },
 "nbformat": 4,
 "nbformat_minor": 4
}
