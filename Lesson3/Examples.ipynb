{
 "cells": [
  {
   "cell_type": "code",
   "execution_count": 1,
   "id": "8aa88d51-59a2-4d24-932d-469b01704800",
   "metadata": {
    "tags": []
   },
   "outputs": [],
   "source": [
    "import re"
   ]
  },
  {
   "cell_type": "code",
   "execution_count": 2,
   "id": "d0122b72-50eb-436e-84dd-c08a9e798cc7",
   "metadata": {
    "tags": []
   },
   "outputs": [
    {
     "name": "stdout",
     "output_type": "stream",
     "text": [
      "['Angela']\n"
     ]
    }
   ],
   "source": [
    "string=\"Hello my name is Angela \"\n",
    "print(re.findall(r\"Angela\",string))"
   ]
  },
  {
   "cell_type": "code",
   "execution_count": 3,
   "id": "7de42ead-1a38-40e3-b132-1c8a62567b48",
   "metadata": {
    "tags": []
   },
   "outputs": [
    {
     "name": "stdout",
     "output_type": "stream",
     "text": [
      "['9', '2', '3']\n"
     ]
    }
   ],
   "source": [
    "# find all the number characters in a string we can use an identifier '/d'\n",
    "\n",
    "string = \"I live on street 9 which is near street 23\"\n",
    "print(re.findall(r\"\\d\",string))"
   ]
  },
  {
   "cell_type": "code",
   "execution_count": 4,
   "id": "537d7e5e-ab6c-4276-bbd8-88f3914cbbb4",
   "metadata": {
    "tags": []
   },
   "outputs": [
    {
     "name": "stdout",
     "output_type": "stream",
     "text": [
      "['23']\n"
     ]
    }
   ],
   "source": [
    "# tackle the split using two \\d\n",
    "# now it can only find two-digit numbers\n",
    "string=\"I live on street 9 which is near street 23\"\n",
    "print(re.findall(r\"\\d\\d\",string))"
   ]
  },
  {
   "cell_type": "code",
   "execution_count": 5,
   "id": "dd16e986-55a1-45b0-84f3-c0d92443122d",
   "metadata": {
    "tags": []
   },
   "outputs": [
    {
     "name": "stdout",
     "output_type": "stream",
     "text": [
      "['9', '23']\n"
     ]
    }
   ],
   "source": [
    "# we can use a modifier “ + ” to get numbers of any length from the string. \n",
    "# This modifier returns a string when it matches 1 or more characters.\n",
    "\n",
    "string=\"I live on street 9 which is near street 23\"\n",
    "print(re.findall(r\"\\d+\",string))"
   ]
  },
  {
   "cell_type": "code",
   "execution_count": 8,
   "id": "2cf187b0-ecdb-4548-9e58-0d26d06d2998",
   "metadata": {
    "tags": []
   },
   "outputs": [
    {
     "name": "stdout",
     "output_type": "stream",
     "text": [
      "['Great', 'Learning']\n"
     ]
    }
   ],
   "source": [
    "pattern=re.compile('[A-Z][a-z]+')\n",
    "result=pattern.findall('Great Learning is all about excellence')\n",
    "print(result)"
   ]
  },
  {
   "cell_type": "code",
   "execution_count": 9,
   "id": "dc429774-922b-4ba7-87fa-3534284b4faa",
   "metadata": {
    "tags": []
   },
   "outputs": [
    {
     "name": "stdout",
     "output_type": "stream",
     "text": [
      "<re.Match object; span=(12, 17), match='Spain'>\n"
     ]
    }
   ],
   "source": [
    "txt = \"The rain in Spain\"\n",
    "print(re.search(\"Spain\", txt))"
   ]
  },
  {
   "cell_type": "code",
   "execution_count": 10,
   "id": "20fd2ed1-5516-4e5f-9f5e-fdf73e4fb8e8",
   "metadata": {
    "tags": []
   },
   "outputs": [
    {
     "name": "stdout",
     "output_type": "stream",
     "text": [
      "['one', 'two', 'three', 'four']\n"
     ]
    }
   ],
   "source": [
    "s_nums = 'one1two22three333four'\n",
    "print(re.split('\\d+', s_nums))"
   ]
  },
  {
   "cell_type": "code",
   "execution_count": 11,
   "id": "336d59a7-ddac-4e88-a2f2-768bcf5ae6f6",
   "metadata": {
    "tags": []
   },
   "outputs": [
    {
     "name": "stdout",
     "output_type": "stream",
     "text": [
      "XXX@xxx.com XXX@yyy.com XXX@zzz.com\n"
     ]
    }
   ],
   "source": [
    "# replaces the matches with the text of your choice\n",
    "s = 'aaa@xxx.com bbb@yyy.com ccc@zzz.com'\n",
    "print(re.sub('[a-z]*@', 'XXX@', s))"
   ]
  },
  {
   "cell_type": "code",
   "execution_count": 12,
   "id": "7d9c22d9-a404-4b73-915c-27bd7cb9fce1",
   "metadata": {
    "tags": []
   },
   "outputs": [
    {
     "name": "stdout",
     "output_type": "stream",
     "text": [
      "('XXX@xxx.com XXX@yyy.com XXX@zzz.com', 3)\n"
     ]
    }
   ],
   "source": [
    "# re.subn function returns a tuple of items containing the new string and the number of substitutions made\n",
    "\n",
    "s = 'aaa@xxx.com bbb@yyy.com ccc@zzz.com'\n",
    "print(re.subn('[a-z]*@', 'XXX@', s))"
   ]
  },
  {
   "cell_type": "code",
   "execution_count": 19,
   "id": "21c30983-4320-448c-be92-b03507132c75",
   "metadata": {
    "tags": []
   },
   "outputs": [
    {
     "name": "stdout",
     "output_type": "stream",
     "text": [
      "<re.Match object; span=(0, 8), match='learning'>\n",
      "None\n"
     ]
    }
   ],
   "source": [
    "#checks for a match only at the beginning of the string\n",
    "# if a match is found in some other line, returns null\n",
    "\n",
    "string ='''learning regex with \n",
    "           great learning is easy \n",
    "           also regex is very useful for string matching. \n",
    "           It is fast too.'''\n",
    "print(re.match('learning', string))\n",
    "print(re.match('great learning', string)) "
   ]
  },
  {
   "cell_type": "code",
   "execution_count": 20,
   "id": "66344fa5-bd47-4cf4-8c4b-1a7e51a350b2",
   "metadata": {
    "tags": []
   },
   "outputs": [
    {
     "name": "stdout",
     "output_type": "stream",
     "text": [
      "matchObj.group() :  Dogs are as loyal than cats\n",
      "matchObj.group(1) :  Dogs\n",
      "matchObj.group(2) :  as\n"
     ]
    }
   ],
   "source": [
    "# group function returns entire match\n",
    "# We define a group in Regular expression by enclosing them in parenthesis\n",
    "\n",
    "string = \"Dogs are as loyal than cats\"\n",
    "matchObj = re.match( r'(.*) are (.*?) .*', string)\n",
    "print (\"matchObj.group() : \", matchObj.group(0))\n",
    "print (\"matchObj.group(1) : \", matchObj.group(1))\n",
    "print (\"matchObj.group(2) : \", matchObj.group(2))"
   ]
  },
  {
   "cell_type": "code",
   "execution_count": null,
   "id": "b2bd680c-b64a-46ad-8630-c18921dede77",
   "metadata": {},
   "outputs": [],
   "source": []
  }
 ],
 "metadata": {
  "kernelspec": {
   "display_name": "Python 3 (ipykernel)",
   "language": "python",
   "name": "python3"
  },
  "language_info": {
   "codemirror_mode": {
    "name": "ipython",
    "version": 3
   },
   "file_extension": ".py",
   "mimetype": "text/x-python",
   "name": "python",
   "nbconvert_exporter": "python",
   "pygments_lexer": "ipython3",
   "version": "3.11.7"
  }
 },
 "nbformat": 4,
 "nbformat_minor": 5
}
