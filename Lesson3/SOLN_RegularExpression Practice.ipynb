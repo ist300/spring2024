{
 "cells": [
  {
   "cell_type": "markdown",
   "id": "5a9b9b82",
   "metadata": {},
   "source": [
    "# Regular Expressions Practice \n",
    "#### For more details see ... https://www.programiz.com/python-programming/regex\n"
   ]
  },
  {
   "cell_type": "code",
   "execution_count": 2,
   "id": "e0f404cb",
   "metadata": {
    "tags": []
   },
   "outputs": [],
   "source": [
    "import re"
   ]
  },
  {
   "cell_type": "markdown",
   "id": "7ab63e25",
   "metadata": {},
   "source": [
    "#### Question 1\n",
    "#### The code below searches the string to determine if it begins with \"The\" and ends with \"sunny\":\n",
    "####  Using wildcards complete the code below...\n"
   ]
  },
  {
   "cell_type": "code",
   "execution_count": 4,
   "id": "b90a3179",
   "metadata": {
    "tags": []
   },
   "outputs": [
    {
     "data": {
      "text/plain": [
       "'MATCH FOUND!!'"
      ]
     },
     "execution_count": 4,
     "metadata": {},
     "output_type": "execute_result"
    }
   ],
   "source": [
    "## ARR CODE\n",
    "\n",
    "txt = \"The weather today is sunny\"\n",
    "pattern = r\"The.*sunny$\"\n",
    "x = re.search(pattern, txt)\n",
    "    \n",
    "# Output whether there is a match or not\n",
    "\n",
    "match_status = \"MATCH FOUND!!\" if x else \"NO MATCH\"\n",
    "match_status"
   ]
  },
  {
   "cell_type": "code",
   "execution_count": 5,
   "id": "47698093-63a3-41f4-bbb5-5f5b6133b560",
   "metadata": {
    "tags": []
   },
   "outputs": [
    {
     "name": "stdout",
     "output_type": "stream",
     "text": [
      "<re.Match object; span=(0, 26), match='The weather today is sunny'>\n"
     ]
    }
   ],
   "source": [
    "# MAX CODE\n",
    "\n",
    "txt = \"The weather today is sunny\"\n",
    "x = re.search('^The.*sunny$', txt)\n",
    "print(x)\n"
   ]
  },
  {
   "cell_type": "markdown",
   "id": "c856f2e8",
   "metadata": {},
   "source": [
    "#### Question 2\n",
    "#### Write a search that does not return a match. Explain your output you receive. "
   ]
  },
  {
   "cell_type": "code",
   "execution_count": 6,
   "id": "6ed85ed6",
   "metadata": {
    "tags": []
   },
   "outputs": [
    {
     "name": "stdout",
     "output_type": "stream",
     "text": [
      "None\n"
     ]
    }
   ],
   "source": [
    "# Question 2\n",
    "\n",
    "# MAX CODE\n",
    "y = re.search('^\\w{8}', txt)\n",
    "print(y)\n"
   ]
  },
  {
   "cell_type": "code",
   "execution_count": 12,
   "id": "40973da4-679f-4013-b043-a9d60e93fc7f",
   "metadata": {
    "tags": []
   },
   "outputs": [
    {
     "data": {
      "text/plain": [
       "'No match found'"
      ]
     },
     "execution_count": 12,
     "metadata": {},
     "output_type": "execute_result"
    }
   ],
   "source": [
    "## ARR CODE \n",
    "\n",
    "pattern = r\"abc123\"\n",
    "\n",
    "# Search for an unlikely pattern in the string \n",
    "x = re.search(pattern, txt)\n",
    "\n",
    "# Output whether it is a match or is not a match \n",
    "matching = \" Match found\" if x else \"No match found\"\n",
    "matching"
   ]
  },
  {
   "cell_type": "markdown",
   "id": "7b049ea6",
   "metadata": {},
   "source": [
    "#### Question 3\n",
    "#### Write a search for the first white-space character in a string. Your output should indicate the position."
   ]
  },
  {
   "cell_type": "code",
   "execution_count": 8,
   "id": "fc038a06",
   "metadata": {
    "tags": []
   },
   "outputs": [
    {
     "data": {
      "text/plain": [
       "<re.Match object; span=(3, 4), match=' '>"
      ]
     },
     "execution_count": 8,
     "metadata": {},
     "output_type": "execute_result"
    }
   ],
   "source": [
    "# Question 3\n",
    "\n",
    "txt = \"The weather today is sunny\"\n",
    "x = re.search(r'\\s',txt)\n",
    "\n",
    "# Output whether there is a match or not\n",
    "xx= \"Found!\" if x else \"No match\"\n",
    "\n"
   ]
  },
  {
   "cell_type": "code",
   "execution_count": 14,
   "id": "a3d16651-60aa-49b8-a304-7a9d4fb2d438",
   "metadata": {},
   "outputs": [
    {
     "data": {
      "text/plain": [
       "3"
      ]
     },
     "execution_count": 14,
     "metadata": {},
     "output_type": "execute_result"
    }
   ],
   "source": [
    "#ARR CODE \n",
    "\n",
    "pattern_whitespace = r\"\\s\"\n",
    "# Search for the first white-space character in the string\n",
    "\n",
    "x_whitespace = re.search(pattern_whitespace, txt)\n",
    "# Output the position of the first white-space character\n",
    "\n",
    "position = x_whitespace.start() if x_whitespace else \"No whitespace found!\"\n",
    "position"
   ]
  },
  {
   "cell_type": "markdown",
   "id": "5bffd1d9",
   "metadata": {},
   "source": [
    "#### Question 4 \n",
    "#### Replace all the whitespace with an underscore in a string."
   ]
  },
  {
   "cell_type": "code",
   "execution_count": 9,
   "id": "1e93738f",
   "metadata": {
    "tags": []
   },
   "outputs": [
    {
     "data": {
      "text/plain": [
       "'The_weather_today_is_sunny'"
      ]
     },
     "execution_count": 9,
     "metadata": {},
     "output_type": "execute_result"
    }
   ],
   "source": [
    "# Question 4\n",
    "\n",
    "txt = \"The weather today is sunny\"\n",
    "x = re.sub(r'\\s','_',txt)\n",
    "\n",
    "# Output whether there is a match or not\n",
    "x\n"
   ]
  },
  {
   "cell_type": "code",
   "execution_count": 15,
   "id": "2a92de56-7501-4643-92f0-9e3c6422765b",
   "metadata": {
    "tags": []
   },
   "outputs": [
    {
     "data": {
      "text/plain": [
       "'The_weather_today_is_sunny'"
      ]
     },
     "execution_count": 15,
     "metadata": {},
     "output_type": "execute_result"
    }
   ],
   "source": [
    "# ARR CODE\n",
    "\n",
    "\n",
    "txt_replaced = re.sub(r\"\\s\", \"_\", txt)\n",
    "txt_replaced"
   ]
  },
  {
   "cell_type": "markdown",
   "id": "4a553e89",
   "metadata": {},
   "source": [
    "#### Question 5\n",
    "#### Match 0 or more times. Complete the code below. Explain what does the method function finditer work?"
   ]
  },
  {
   "cell_type": "code",
   "execution_count": null,
   "id": "be562394",
   "metadata": {},
   "outputs": [],
   "source": [
    "s = \"CPython, IronPython, and JPython are major Python's implementation\"\n",
    "\n",
    "matches = re.finditer(# TODO)\n",
    "\n",
    "for match in matches:\n",
    "    print(match)"
   ]
  },
  {
   "cell_type": "code",
   "execution_count": 10,
   "id": "98f3bf0d",
   "metadata": {
    "tags": []
   },
   "outputs": [
    {
     "name": "stdout",
     "output_type": "stream",
     "text": [
      "<re.Match object; span=(1, 7), match='Python'>\n",
      "<re.Match object; span=(13, 19), match='Python'>\n",
      "<re.Match object; span=(26, 32), match='Python'>\n",
      "<re.Match object; span=(43, 49), match='Python'>\n"
     ]
    }
   ],
   "source": [
    "s = \"CPython, IronPython, and JPython are major Python's implementation\"\n",
    "\n",
    "matches = re.finditer('Python', s)\n",
    "\n",
    "for match in matches:\n",
    "    print(match)\n",
    "    \n",
    "# The re.finditer() function makes a list of regex Match object that contain the expression provided.\n"
   ]
  },
  {
   "cell_type": "code",
   "execution_count": 18,
   "id": "4ae7ff9b-4e70-40e8-8e7c-ca91133c9f87",
   "metadata": {},
   "outputs": [
    {
     "data": {
      "text/plain": [
       "['Python,', 'Python,']"
      ]
     },
     "execution_count": 18,
     "metadata": {},
     "output_type": "execute_result"
    }
   ],
   "source": [
    "# ARR CODE \n",
    "s = \"CPython, IronPython, and JPython are major Python's implementation\"\n",
    "pattern = r\"Python.*?[,|$]\"\n",
    "matches = re.finditer(pattern, s)\n",
    "matches_list = [match.group() for match in matches]\n",
    "matches_list\n"
   ]
  },
  {
   "cell_type": "markdown",
   "id": "01ea0201-655c-4406-a2f5-263a9bbd29cc",
   "metadata": {},
   "source": [
    "#### Question 6\n",
    "\n",
    "#### Read in the test email file. Explore the file using 3 common regex functions \n",
    "#### Use comment or markdown to explain your code and findings"
   ]
  },
  {
   "cell_type": "code",
   "execution_count": null,
   "id": "94a2b72d-1cb7-4146-8012-a8047c0850ec",
   "metadata": {},
   "outputs": [],
   "source": []
  }
 ],
 "metadata": {
  "kernelspec": {
   "display_name": "Python 3 (ipykernel)",
   "language": "python",
   "name": "python3"
  },
  "language_info": {
   "codemirror_mode": {
    "name": "ipython",
    "version": 3
   },
   "file_extension": ".py",
   "mimetype": "text/x-python",
   "name": "python",
   "nbconvert_exporter": "python",
   "pygments_lexer": "ipython3",
   "version": "3.11.7"
  }
 },
 "nbformat": 4,
 "nbformat_minor": 5
}
