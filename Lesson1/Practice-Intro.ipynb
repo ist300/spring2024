{
 "cells": [
  {
   "cell_type": "markdown",
   "metadata": {
    "editable": true,
    "slideshow": {
     "slide_type": ""
    },
    "tags": []
   },
   "source": [
    "# Class Coding Lab: Introduction to Programming\n",
    "\n",
    "The goals of this lab are to help you to understand:\n",
    "\n",
    "1. How to turn in your lab and homework\n",
    "2. the Jupyter programming environments\n",
    "3. basic Python Syntax\n",
    "4. variables and their use\n",
    "5. how to sequence instructions together into a cohesive program\n",
    "6. the input() function for input and print() function for output\n"
   ]
  },
  {
   "cell_type": "markdown",
   "metadata": {},
   "source": [
    "## Let's start with an example: Hello, world!\n",
    "\n",
    "This program asks for your name as input, then says hello to you as output. Most often it's the first program you write when learning a new programming language. \n",
    "\n",
    "TO RUN THIS CODE: Click in the cell below and click the run cell button.\n",
    "\n",
    "NOTE: After the code executes, you will see a sequence number next to the code and output below the code itself. This is your indication the code in the cell has run. You must run all code cells in the notebook for full credit.\n"
   ]
  },
  {
   "cell_type": "code",
   "execution_count": null,
   "metadata": {
    "code_cell_type": "run_code"
   },
   "outputs": [],
   "source": [
    "your_name = input(\"What is your name? \")\n",
    "print('Hello there',your_name)"
   ]
  },
  {
   "cell_type": "markdown",
   "metadata": {},
   "source": [
    "Believe it or not there's a lot going on in this simple two-line program, so let's break it down.\n",
    "\n",
    " - **The first line:**\n",
    "  - Asks you for input, prompting you with `What is your Name?`\n",
    "  - It then stores your input in the variable `your_name` \n",
    " - **The second line:**\n",
    "  - prints out the following text: `Hello there`\n",
    "  - then prints out the contents of the variable `your_name`\n",
    "\n",
    "At this point you might have a few questions. What is a variable? Why do I need it? Why is this two lines? Etc... All will be revealed in time."
   ]
  },
  {
   "cell_type": "markdown",
   "metadata": {},
   "source": [
    "## Variables\n",
    "\n",
    "Variables are names in our code which store values. I think of variables as cardboard boxes. Boxes hold things. Variables hold things. The name of the variable is on the ouside of the box (that way you know which box it is), and value of the variable represents the contents of the box. \n",
    "\n",
    "### Variable Assignment\n",
    "\n",
    "**Assignment** is an operation where we store data in our variable. It's like packing something up in the box.\n",
    "\n",
    "In this example we assign the value \"USA\" to the variable **country**"
   ]
  },
  {
   "cell_type": "code",
   "execution_count": null,
   "metadata": {
    "code_cell_type": "run_code"
   },
   "outputs": [],
   "source": [
    "# Here's an example of variable assignment. \n",
    "country = 'USA'"
   ]
  },
  {
   "cell_type": "markdown",
   "metadata": {},
   "source": [
    "### Variable Access  \n",
    "\n",
    "What good is storing data if you cannot retrieve it? Lucky for us, retrieving the data in variable is as simple as calling its name:"
   ]
  },
  {
   "cell_type": "code",
   "execution_count": null,
   "metadata": {
    "code_cell_type": "run_code"
   },
   "outputs": [],
   "source": [
    "country # Run this cell. It should say 'USA'"
   ]
  },
  {
   "cell_type": "markdown",
   "metadata": {},
   "source": [
    "At this point you might be thinking: Can I overwrite a variable? The answer, of course, is yes! Just re-assign it a different value:"
   ]
  },
  {
   "cell_type": "code",
   "execution_count": null,
   "metadata": {
    "code_cell_type": "run_code"
   },
   "outputs": [],
   "source": [
    "country = 'Canada'"
   ]
  },
  {
   "cell_type": "markdown",
   "metadata": {},
   "source": [
    "You can also access a variable multiple times. Each time it simply gives you its value:"
   ]
  },
  {
   "cell_type": "code",
   "execution_count": null,
   "metadata": {
    "code_cell_type": "run_code"
   },
   "outputs": [],
   "source": [
    "country, country, country"
   ]
  },
  {
   "cell_type": "markdown",
   "metadata": {},
   "source": [
    "### The Purpose Of Variables\n",
    "\n",
    "Variables play an vital role in programming. Computer instructions have no memory of each other. That is one line of code has no idea what is happening in the other lines of code. The only way we can \"connect\" what happens from one line to the next is through variables. \n",
    "\n",
    "For example, if we re-write the Hello, World program at the top of the page without variables, we get the following:\n"
   ]
  },
  {
   "cell_type": "code",
   "execution_count": null,
   "metadata": {
    "code_cell_type": "run_code"
   },
   "outputs": [],
   "source": [
    "input(\"What is your name? \")\n",
    "print('Hello there')"
   ]
  },
  {
   "cell_type": "markdown",
   "metadata": {},
   "source": [
    "When you execute this program, notice there is no longer a connection between the input and the output. In fact, the input on line 1 doesn't matter because the output on line 2 doesn't know about it. It cannot because we never stored the results of the input into a variable!"
   ]
  },
  {
   "cell_type": "markdown",
   "metadata": {},
   "source": [
    "### 1.1 You Code\n",
    "\n",
    "Re-write the program above to input a name and then say hello there, name. It will need to store the first line in a variable so that it can be printed on the 2nd line."
   ]
  },
  {
   "cell_type": "code",
   "execution_count": null,
   "metadata": {
    "code_cell_type": "write_code",
    "editable": true,
    "label": "1.1",
    "slideshow": {
     "slide_type": ""
    },
    "solution": [
     "x = input(\"What is your name? \")\n",
     "print(\"Hello there\",x)\n"
    ],
    "tags": []
   },
   "outputs": [],
   "source": [
    "# TODO: Write your code here\n"
   ]
  },
  {
   "cell_type": "markdown",
   "metadata": {},
   "source": [
    "### What's in a name? Um, EVERYTHING\n",
    "\n",
    "Computer code serves two equally important purposes:\n",
    "\n",
    "1. To solve a problem (obviously)\n",
    "2. To communicate how you solved problem to another person (hmmm... I didn't think of that!)\n",
    "\n",
    "If our code does something useful, like land a rocket, predict the weather, or calculate month-end account balances then the chances are 100% certain that *someone else will need to read and understand our code.*  \n",
    "\n",
    "Therefore it's just as important we develop code that is easily understood by both the computer and our colleagues.\n",
    "\n",
    "This starts with the names we choose for our variables. Consider the following program:"
   ]
  },
  {
   "cell_type": "code",
   "execution_count": null,
   "metadata": {
    "code_cell_type": "run_code"
   },
   "outputs": [],
   "source": [
    "y = input(\"Enter your city: \")\n",
    "x = input(\"Enter your state: \")\n",
    "print(x,y,'is a nice place to live')"
   ]
  },
  {
   "cell_type": "markdown",
   "metadata": {},
   "source": [
    "What do `x` and `y` represent? Is there a semantic (design) error in this program?\n",
    "\n",
    "You might find it easy to figure out the answers to these questions, but consider this more human-friendly version:"
   ]
  },
  {
   "cell_type": "code",
   "execution_count": null,
   "metadata": {
    "code_cell_type": "run_code"
   },
   "outputs": [],
   "source": [
    "city = input(\"Enter your city: \")\n",
    "state = input(\"Enter your state: \")\n",
    "print(city, state, 'is a nice place to live')"
   ]
  },
  {
   "cell_type": "markdown",
   "metadata": {},
   "source": [
    "Do the aptly-named variables make it easier to find the semantic errors in this second version? OF COURSE THEY DO!!!\n",
    "\n",
    "### 1.2 You Code\n",
    "\n",
    "**Debug** the program below (remove errors to get it working). When it is correct it should input your name and your age and the print name and age on a single line. Make sure you use aptly-named variables!!!\n",
    "\n",
    "Example of the Program running:\n",
    "```\n",
    "Enter your name: Mike\n",
    "Enter your age: 25\n",
    "Mike is 25\n",
    "```\n",
    "In the above example `Mike` was the entered name, and `25` was the entered age. "
   ]
  },
  {
   "cell_type": "code",
   "execution_count": null,
   "metadata": {
    "code_cell_type": "debug_code",
    "editable": true,
    "label": "1.2",
    "slideshow": {
     "slide_type": ""
    },
    "solution": [
     "name = input(\"Enter your name: \")\n",
     "age = input(\"Enter your age: \")\n",
     "print(name, \"is\", age)\n"
    ],
    "tags": []
   },
   "outputs": [],
   "source": [
    "# TODO: Debug this code here.\n",
    "name = input \"Enter your name: \"\n",
    "foo = input(\"Enter your age: \")\n",
    "print(name, \"is\" )\n"
   ]
  },
  {
   "cell_type": "markdown",
   "metadata": {},
   "source": [
    "### 1.3 You Code\n",
    "\n",
    "Now try to write a program which asks for two separate inputs: your first name and your last name. The program should then output `Hello` with your first name and last name.\n",
    "\n",
    "For example if you enter `Mike` for the first name and `Fudge` for the last name the program should output `Hello Mike Fudge`\n",
    "\n",
    "**HINTS**\n",
    "\n",
    " - Use appropriate variable names. If you need to create a two word variable name use an underscore in place of the space between the words. eg. `two_words` \n",
    " - You will need a separate set of inputs for each name.\n"
   ]
  },
  {
   "cell_type": "code",
   "execution_count": null,
   "metadata": {
    "code_cell_type": "write_code",
    "label": "1.3",
    "solution": [
     "first_name = input(\"Enter your first name:\")\n",
     "last_name = input(\"Enter your last name:\")\n",
     "print(\"Hello\",first_name, last_name)\n"
    ]
   },
   "outputs": [],
   "source": [
    "# TODO: write your code here\n"
   ]
  },
  {
   "cell_type": "markdown",
   "metadata": {},
   "source": [
    "### Variable Concatenation: Your First Operator\n",
    "\n",
    "The `+` symbol is used to combine to variables containing text values together. Consider the following example:"
   ]
  },
  {
   "cell_type": "code",
   "execution_count": null,
   "metadata": {
    "code_cell_type": "run_code"
   },
   "outputs": [],
   "source": [
    "prefix = \"re\"\n",
    "suffix = \"ment\"\n",
    "root = input(\"Enter a root word, like 'ship': \")\n",
    "print( prefix + root + suffix)"
   ]
  },
  {
   "cell_type": "code",
   "execution_count": null,
   "metadata": {
    "code_cell_type": "run_code"
   },
   "outputs": [],
   "source": [
    "first = input(\"Enter first name: \")\n",
    "last = input(\"enter last name: \")\n",
    "name_last_first = last + \",\" + first\n",
    "print(name_last_first)"
   ]
  },
  {
   "cell_type": "markdown",
   "metadata": {},
   "source": [
    "### 1.4 You Code\n",
    "\n",
    "Write a program to prompt for three colors as input, then outputs those three colors in order they were entered, informing me which one was the middle (2nd entered) color. \n",
    "\n",
    "For example if you were to input  `red` then `green` then `blue`   \n",
    "\n",
    "the program would output:   \n",
    "`Your colors are: red, green, and blue.`  \n",
    "`The middle color is green.` \n",
    "\n",
    "**HINTS**\n",
    "\n",
    " - you'll need three variables one for each input\n",
    " - you should try to make the program output like my example. This includes commas and the word `and`. \n",
    " - name your variables appropriately!\n",
    " - use the `+` operator.\n",
    " "
   ]
  },
  {
   "cell_type": "code",
   "execution_count": null,
   "metadata": {
    "code_cell_type": "write_code",
    "label": "1.4",
    "solution": [
     "first=input(\"What is your favorite color?\")\n",
     "second=input(\"What is your second favorite color?\")\n",
     "third=input(\"What is your third favorite color?\")\n",
     "print(\"Your colors are: \" + first + \", \" + second + \", and \" + third + \".\")\n",
     "print(\"The middle color is \" + second + \".\")    \n"
    ]
   },
   "outputs": [],
   "source": [
    "# TODO: write your code here\n"
   ]
  },
  {
   "cell_type": "markdown",
   "metadata": {},
   "source": [
    "### F-Strings\n",
    "\n",
    "In Python 3.7, f-strings were introduced to make it easier to format string literals in the `print()` statement. \n",
    "\n",
    "Here's how it works:\n",
    "\n",
    "- Put an `f` in front of the string literal, like this: `f\"`\n",
    "- For any variable you want to print, enclose in `{curly braces}` within the string literal.\n",
    "- At run-time the variable in `{curly braces}` is replaced with its value! This is called **string interpolation**.\n",
    "\n",
    "For example:"
   ]
  },
  {
   "cell_type": "code",
   "execution_count": null,
   "metadata": {
    "code_cell_type": "run_code"
   },
   "outputs": [],
   "source": [
    "name = \"Mary\"\n",
    "major = \"Data Science\"\n",
    "gpa = \"4.0\"\n",
    "print(f\"{name} is a {major} major. Her gpa is {gpa}\")"
   ]
  },
  {
   "cell_type": "markdown",
   "metadata": {},
   "source": [
    "### 1.5 You Code\n",
    "\n",
    "Re-write the last program (1.4 You Code) to print using f-strings! As good practice, do not copy and paste code, instead re-write it. This will result in fewer bugs (mistakes) in your code."
   ]
  },
  {
   "cell_type": "code",
   "execution_count": null,
   "metadata": {
    "code_cell_type": "write_code",
    "label": "1.5",
    "solution": [
     "first=input(\"What is your favorite color?\")\n",
     "second=input(\"What is your second favorite color?\")\n",
     "third=input(\"What is your third favorite color?\")\n",
     "print(f\"Your colors are: {first}, {second}, and {third}.\")\n",
     "print(f\"The middle color is {second}.\")\n"
    ]
   },
   "outputs": [],
   "source": [
    "# TODO: write your code here\n"
   ]
  },
  {
   "cell_type": "markdown",
   "metadata": {},
   "source": [
    "##  Metacognition"
   ]
  },
  {
   "cell_type": "markdown",
   "metadata": {},
   "source": [
    "\n",
    "### Rate your comfort level with this week's material so far.   \n",
    "\n",
    "**1** ==> I don't understand this at all yet and need extra help. If you choose this please try to articulate that which you do not understand to the best of your ability in the questions and comments section below.  \n",
    "**2** ==> I can do this with help or guidance from other people or resources. If you choose this level, please indicate HOW this person helped you in the questions and comments section below.   \n",
    "**3** ==> I can do this on my own without any help.   \n",
    "**4** ==> I can do this on my own and can explain/teach how to do it to others.\n",
    "\n",
    "`ENTER A NUMBER 1-4 IN THE CELL BELOW`"
   ]
  },
  {
   "cell_type": "markdown",
   "metadata": {
    "label": "comfort_cell"
   },
   "source": []
  },
  {
   "cell_type": "markdown",
   "metadata": {
    "editable": true,
    "slideshow": {
     "slide_type": ""
    },
    "tags": []
   },
   "source": [
    "###  Questions And Comments \n",
    "\n",
    "Record any questions or comments you have about this lab that you would like to discuss in your recitation. It is expected you will have questions if you  complete this assignment.  Learning how to articulate what you do not understand is an important skill of critical thinking. Write your questions below so that you remember to ask them in your recitation. We expect you will take responsilbity for your learning and ask questions in class.\n",
    "\n",
    "`ENTER YOUR QUESTIONS/COMMENTS IN THE CELL BELOW`"
   ]
  },
  {
   "cell_type": "markdown",
   "metadata": {
    "label": "question_cell"
   },
   "source": []
  },
  {
   "cell_type": "markdown",
   "metadata": {},
   "source": [
    "## How Do I hand in my Work?\n",
    "\n",
    "FIRST AND FOREMOST: **Save Your work!** Yes, it auto-saves, but you should get in the habit of saving before submitting. From the menu, choose File --> Save Notebook. Or you can use the shortcut keys `CTRL+S`\n",
    "\n",
    "### Lab Check\n",
    "\n",
    "Check your lab before submitting. Look for errors and incomplete parts which might cost you a better grade"
   ]
  },
  {
   "cell_type": "code",
   "execution_count": 1,
   "metadata": {
    "editable": true,
    "slideshow": {
     "slide_type": ""
    },
    "tags": []
   },
   "outputs": [
    {
     "name": "stdout",
     "output_type": "stream",
     "text": [
      "❌ Not all code cells were executed.\n",
      "❌ Comfort level is blank.\n",
      "❌ Questions cell is blank. You should have a question or comment.\n",
      "❌ 1.1 does not have a code solution.\n",
      "❌ 1.2 code has syntax error:    line 1\n",
      "    name = input \"Enter your name: \"\n",
      "                 ^^^^^^^^^^^^^^^^^^^\n",
      "SyntaxError: invalid syntax\n",
      "\n",
      "❌ 1.3 does not have a code solution.\n",
      "❌ 1.4 does not have a code solution.\n",
      "❌ 1.5 does not have a code solution.\n"
     ]
    }
   ],
   "source": [
    "from casstools.notebook_tools import NotebookFile\n",
    "NotebookFile().check_lab()"
   ]
  },
  {
   "cell_type": "markdown",
   "metadata": {},
   "source": [
    "### Lab Submission\n",
    "\n",
    "Run this code and follow the instructions to turn in your lab. "
   ]
  },
  {
   "cell_type": "code",
   "execution_count": 6,
   "metadata": {
    "editable": true,
    "slideshow": {
     "slide_type": ""
    },
    "tags": []
   },
   "outputs": [
    {
     "name": "stdout",
     "output_type": "stream",
     "text": [
      "✅ TIMESTAMP  : 2024-01-14 15:10\n",
      "✅ COURSE     : ist256\n",
      "✅ TERM       : spring2024\n",
      "✅ USER       : mafudge@syr.edu\n",
      "✅ STUDENT    : True\n",
      "✅ PATH       : ist256/spring2024/lessons/01-Intro/LAB-Intro.ipynb\n",
      "✅ ASSIGNMENT : LAB-Intro.ipynb\n",
      "✅ POINTS     : 3\n",
      "✅ DUE DATE   : 2024-01-23 23:59\n",
      "✅ LATE       : False\n",
      "✅ STATUS     : New Submission\n",
      "\n"
     ]
    },
    {
     "name": "stdin",
     "output_type": "stream",
     "text": [
      "❓ Submit? [y/n] ❓  n\n"
     ]
    },
    {
     "name": "stdout",
     "output_type": "stream",
     "text": [
      "👎 Submission Cancelled\n"
     ]
    }
   ],
   "source": [
    "from casstools.assignment import Assignment\n",
    "Assignment().submit()"
   ]
  },
  {
   "cell_type": "code",
   "execution_count": null,
   "metadata": {},
   "outputs": [],
   "source": []
  }
 ],
 "metadata": {
  "anaconda-cloud": {},
  "kernelspec": {
   "display_name": "Python 3 (ipykernel)",
   "language": "python",
   "name": "python3"
  },
  "language_info": {
   "codemirror_mode": {
    "name": "ipython",
    "version": 3
   },
   "file_extension": ".py",
   "mimetype": "text/x-python",
   "name": "python",
   "nbconvert_exporter": "python",
   "pygments_lexer": "ipython3",
   "version": "3.11.7"
  },
  "toc": {
   "base_numbering": 1,
   "nav_menu": {},
   "number_sections": false,
   "sideBar": false,
   "skip_h1_title": false,
   "title_cell": "Table of Contents",
   "title_sidebar": "Contents",
   "toc_cell": false,
   "toc_position": {},
   "toc_section_display": false,
   "toc_window_display": false
  },
  "varInspector": {
   "cols": {
    "lenName": 16,
    "lenType": 16,
    "lenVar": 40
   },
   "kernels_config": {
    "python": {
     "delete_cmd_postfix": "",
     "delete_cmd_prefix": "del ",
     "library": "var_list.py",
     "varRefreshCmd": "print(var_dic_list())"
    },
    "r": {
     "delete_cmd_postfix": ") ",
     "delete_cmd_prefix": "rm(",
     "library": "var_list.r",
     "varRefreshCmd": "cat(var_dic_list()) "
    }
   },
   "types_to_exclude": [
    "module",
    "function",
    "builtin_function_or_method",
    "instance",
    "_Feature"
   ],
   "window_display": false
  }
 },
 "nbformat": 4,
 "nbformat_minor": 4
}
